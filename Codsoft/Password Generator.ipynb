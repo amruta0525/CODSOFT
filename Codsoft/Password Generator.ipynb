{
 "cells": [
  {
   "cell_type": "code",
   "execution_count": null,
   "id": "e189c426",
   "metadata": {},
   "outputs": [],
   "source": [
    "import random\n",
    "import string\n",
    "\n",
    "def generate_password(length,number):\n",
    "    if number == 1:\n",
    "        random_password_1= ''.join(random.choice(string.ascii_letters) for i in range(length))\n",
    "        return random_password_1\n",
    "    elif number == 2:\n",
    "        random_password_2 = ''.join(random.choice(string.digits) for i in range(length))\n",
    "        return random_password_2\n",
    "    elif number == 3:\n",
    "        random_password_3 = ''.join((random.choice((string.ascii_letters)+(string.digits))for i in range(length)))\n",
    "        return random_password_3\n",
    "    else:\n",
    "        print(\"enter valid number\")\n",
    "    return random_string\n",
    "def main():\n",
    "    print(\"Password Generator\")\n",
    "    print(\"please enter requirements of the password to be used\")\n",
    "    print(\"1)Only Letters \\n2)Only numbers \\n3)letters and numbers\\n\")\n",
    "    number = int(input(\"Enter Your choice(enter index of the choice)\"))\n",
    "    length = int(input(\"Enter The Length Of Password Required \\n\"))\n",
    "    while True:\n",
    "        try:\n",
    "            if length > 0:\n",
    "                break\n",
    "            else:\n",
    "                print(\"Enter Positive Integer)\")\n",
    "        except ValueError:\n",
    "                print(\"Enter Valid Number\")\n",
    "    password=generate_password(length,number)\n",
    "    print(\"Password is\",password)\n",
    "    \n",
    "main()"
   ]
  },
  {
   "cell_type": "code",
   "execution_count": null,
   "id": "e2055119",
   "metadata": {},
   "outputs": [],
   "source": []
  }
 ],
 "metadata": {
  "kernelspec": {
   "display_name": "Python 3 (ipykernel)",
   "language": "python",
   "name": "python3"
  },
  "language_info": {
   "codemirror_mode": {
    "name": "ipython",
    "version": 3
   },
   "file_extension": ".py",
   "mimetype": "text/x-python",
   "name": "python",
   "nbconvert_exporter": "python",
   "pygments_lexer": "ipython3",
   "version": "3.11.5"
  }
 },
 "nbformat": 4,
 "nbformat_minor": 5
}
