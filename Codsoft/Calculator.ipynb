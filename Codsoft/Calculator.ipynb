{
 "cells": [
  {
   "cell_type": "code",
   "execution_count": null,
   "id": "5e11c2f6",
   "metadata": {},
   "outputs": [],
   "source": [
    "class calculator:\n",
    "    \n",
    "    def __init__(self):\n",
    "        self.first_num = 0\n",
    "        self.second_num = 0\n",
    "        self.result =0\n",
    "        self.choice = 0\n",
    "        self.menu = None\n",
    "    def add(self,num1,num2):\n",
    "        self.result = self.num1+self.num2\n",
    "        print(\"Addition is: \",self.result)\n",
    "    \n",
    "    def subtract(self,num1,num2):\n",
    "        self.result = self.num1-self.num2\n",
    "        print(\"Subtraction is: \",self.result)\n",
    "        \n",
    "    def multiply(self,num1,num2):\n",
    "        self.result = self.num1*self.num2\n",
    "        print(\"Multiplication is: \",self.result)\n",
    "    \n",
    "    def divide(self,num1,num2):\n",
    "        self.result = self.num1/self.num2\n",
    "        print(\"Division is: \",self.result)\n",
    "       \n",
    "    \n",
    "    def main(self):\n",
    "        self.num1= int(input(\"Enter first number\"))\n",
    "        self.num2= int (input(\"enter second number\"))\n",
    "        menu = \"1)Addition\\n2)Subtraction\\n3)Multiplication\\n4)Division\"\n",
    "        print(menu)\n",
    "        self.choice = int(input(\"Enter Your Choice(1,2,3,4): \"))\n",
    "        if self.choice == 1:\n",
    "            self.add(self.num1,self.num2)\n",
    "        elif self.choice == 2:\n",
    "            self.subtract(self.num1,self.num2)\n",
    "        elif self.choice == 3:\n",
    "            self.multiply(self.num1,self.num2)\n",
    "        elif self.choice == 4:\n",
    "            self.divide(self.num1,self.num2)\n",
    "        else:\n",
    "            print(\"Enter Valid Choice\")\n",
    "        \n",
    "if __name__ == \"__main__\":\n",
    "    cal = calculator()\n",
    "    cal.main()"
   ]
  },
  {
   "cell_type": "code",
   "execution_count": null,
   "id": "7f476735",
   "metadata": {},
   "outputs": [],
   "source": []
  }
 ],
 "metadata": {
  "kernelspec": {
   "display_name": "Python 3 (ipykernel)",
   "language": "python",
   "name": "python3"
  },
  "language_info": {
   "codemirror_mode": {
    "name": "ipython",
    "version": 3
   },
   "file_extension": ".py",
   "mimetype": "text/x-python",
   "name": "python",
   "nbconvert_exporter": "python",
   "pygments_lexer": "ipython3",
   "version": "3.11.5"
  }
 },
 "nbformat": 4,
 "nbformat_minor": 5
}
